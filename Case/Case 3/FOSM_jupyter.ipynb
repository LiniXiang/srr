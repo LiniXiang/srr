{
 "cells": [
  {
   "cell_type": "code",
   "execution_count": 63,
   "metadata": {},
   "outputs": [],
   "source": [
    "import sparql_dataframe\n",
    "\n",
    "#Get 1 values of variable one and variable two\n",
    "endpoint = \"http://localhost:3030/example3/sparql\"\n",
    "q = \"\"\"\n",
    "PREFIX ex3: <http://www.semanticweb.org/asus/ontologies/2021/4/example3#>\n",
    "PREFIX srr: <https://w3id.org/srr#> \n",
    "SELECT ?v1 ?v2\n",
    "where{\n",
    "        ex3:Variable1 srr:NumericalValue ?v1. \n",
    "        ex3:Variable2 srr:NumericalValue ?v2.\n",
    "    }\n",
    "\"\"\"\n",
    "df = sparql_dataframe.get(endpoint, q)"
   ]
  },
  {
   "cell_type": "code",
   "execution_count": 27,
   "metadata": {
    "scrolled": true
   },
   "outputs": [
    {
     "data": {
      "text/html": [
       "<div>\n",
       "<style scoped>\n",
       "    .dataframe tbody tr th:only-of-type {\n",
       "        vertical-align: middle;\n",
       "    }\n",
       "\n",
       "    .dataframe tbody tr th {\n",
       "        vertical-align: top;\n",
       "    }\n",
       "\n",
       "    .dataframe thead th {\n",
       "        text-align: right;\n",
       "    }\n",
       "</style>\n",
       "<table border=\"1\" class=\"dataframe\">\n",
       "  <thead>\n",
       "    <tr style=\"text-align: right;\">\n",
       "      <th></th>\n",
       "      <th>v1</th>\n",
       "      <th>v2</th>\n",
       "    </tr>\n",
       "  </thead>\n",
       "  <tbody>\n",
       "    <tr>\n",
       "      <th>0</th>\n",
       "      <td>0</td>\n",
       "      <td>0</td>\n",
       "    </tr>\n",
       "  </tbody>\n",
       "</table>\n",
       "</div>"
      ],
      "text/plain": [
       "   v1  v2\n",
       "0   0   0"
      ]
     },
     "execution_count": 27,
     "metadata": {},
     "output_type": "execute_result"
    }
   ],
   "source": [
    "df.head()"
   ]
  },
  {
   "cell_type": "code",
   "execution_count": 39,
   "metadata": {
    "scrolled": false
   },
   "outputs": [],
   "source": [
    "import pandas as pd \n",
    "\n",
    "#Transform JSON text into CSV file\n",
    "df.to_csv(\"C:/Users/asus/data.csv\",index=False)"
   ]
  },
  {
   "cell_type": "code",
   "execution_count": 41,
   "metadata": {},
   "outputs": [],
   "source": [
    "import matlab.engine\n",
    "eng = matlab.engine.start_matlab()\n",
    "\n",
    "#MATLAB reads CSV file\n",
    "eng.eval(\"T = readtable('data.csv');\",nargout=0)\n",
    "eng.eval(\"S = table2struct(T,'ToScalar',true);\",nargout=0)\n",
    "eng.eval(\"disp(S)\",nargout=0)"
   ]
  },
  {
   "cell_type": "code",
   "execution_count": 62,
   "metadata": {},
   "outputs": [
    {
     "name": "stdout",
     "output_type": "stream",
     "text": [
      "{'v1': 0.0, 'v2': 0.0}\n"
     ]
    }
   ],
   "source": [
    "D = eng.workspace[\"S\"]\n",
    "print(D)"
   ]
  },
  {
   "cell_type": "code",
   "execution_count": 55,
   "metadata": {
    "scrolled": false
   },
   "outputs": [
    {
     "name": "stdout",
     "output_type": "stream",
     "text": [
      "[0.0, 0.0]\n"
     ]
    }
   ],
   "source": [
    "v1 = D[\"v1\"]\n",
    "v2 = D[\"v2\"]\n",
    "x = [v1,v2]\n",
    "print(x)"
   ]
  },
  {
   "cell_type": "code",
   "execution_count": 65,
   "metadata": {},
   "outputs": [
    {
     "name": "stdout",
     "output_type": "stream",
     "text": [
      "2.709901640083489\n"
     ]
    }
   ],
   "source": [
    "x = matlab.double(x)\n",
    "\n",
    "#Call FOSM functions\n",
    "beta2 = eng.FOSM(x)\n",
    "print(beta2)"
   ]
  },
  {
   "cell_type": "code",
   "execution_count": 61,
   "metadata": {},
   "outputs": [
    {
     "name": "stdout",
     "output_type": "stream",
     "text": [
      "0.0033651581872501213\n"
     ]
    }
   ],
   "source": [
    "Pf2 = eng.normcdf(-beta2)\n",
    "print(Pf2)"
   ]
  }
 ],
 "metadata": {
  "kernelspec": {
   "display_name": "Python 3",
   "language": "python",
   "name": "python3"
  },
  "language_info": {
   "codemirror_mode": {
    "name": "ipython",
    "version": 3
   },
   "file_extension": ".py",
   "mimetype": "text/x-python",
   "name": "python",
   "nbconvert_exporter": "python",
   "pygments_lexer": "ipython3",
   "version": "3.7.0"
  }
 },
 "nbformat": 4,
 "nbformat_minor": 2
}
