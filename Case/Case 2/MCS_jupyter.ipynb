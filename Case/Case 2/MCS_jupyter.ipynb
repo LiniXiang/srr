{
 "cells": [
  {
   "cell_type": "code",
   "execution_count": 1,
   "metadata": {},
   "outputs": [],
   "source": [
    "from SPARQLWrapper import SPARQLWrapper, JSON\n",
    "sparql = SPARQLWrapper(\"http://localhost:3030/example2/sparql\")\n",
    "\n",
    "#Get 10000 values of variable one\n",
    "sparql.setQuery(\"\"\"\n",
    "PREFIX ex2: <http://www.semanticweb.org/asus/ontologies/2021/4/example2#>\n",
    "PREFIX srr: <https://w3id.org/srr#>\n",
    "SELECT ?v1 \n",
    "where{\n",
    "        ex2:Variable1  srr:NumericalValue ?v1. \n",
    "    }\n",
    "\"\"\")\n",
    "sparql.setReturnFormat(JSON)\n",
    "results_v1 = sparql.query().convert()\n",
    "\n",
    "#Get 10000 values of variable two\n",
    "sparql.setQuery(\"\"\"\n",
    "PREFIX ex2: <http://www.semanticweb.org/asus/ontologies/2021/4/example2#>\n",
    "PREFIX srr: <https://w3id.org/srr#>\n",
    "SELECT ?v2 \n",
    "where{\n",
    "        ex2:Variable2  srr:NumericalValue ?v2. \n",
    "    }\n",
    "\"\"\")\n",
    "sparql.setReturnFormat(JSON)\n",
    "results_v2 = sparql.query().convert()"
   ]
  },
  {
   "cell_type": "code",
   "execution_count": 3,
   "metadata": {},
   "outputs": [],
   "source": [
    "import pandas as pd\n",
    "\n",
    "#Transform JSON text into CSV files\n",
    "results_v1_df = pd.io.json.json_normalize(results_v1['results']['bindings'])\n",
    "results_v1_df['v1.value'].to_csv(\"C:/Users/asus/v1.csv\",index=False)\n",
    "\n",
    "results_v2_df = pd.io.json.json_normalize(results_v2['results']['bindings'])\n",
    "results_v2_df['v2.value'].to_csv(\"C:/Users/asus/v2.csv\",index=False)"
   ]
  },
  {
   "cell_type": "code",
   "execution_count": 4,
   "metadata": {},
   "outputs": [],
   "source": [
    "import matlab.engine\n",
    "eng = matlab.engine.start_matlab()\n",
    "\n",
    "#MATLAB reads CSV files\n",
    "eng.eval(\"T1 = readtable('v1.csv');\",nargout=0)\n",
    "eng.eval(\"T2 = readtable('v2.csv');\",nargout=0)\n",
    "\n",
    "eng.eval(\"S1 = table2struct(T1,'ToScalar',true);\",nargout=0)\n",
    "eng.eval(\"S2 = table2struct(T2,'ToScalar',true);\",nargout=0)"
   ]
  },
  {
   "cell_type": "code",
   "execution_count": 14,
   "metadata": {},
   "outputs": [
    {
     "name": "stdout",
     "output_type": "stream",
     "text": [
      "<class 'list'>\n"
     ]
    }
   ],
   "source": [
    "D1 = eng.workspace[\"S1\"]\n",
    "D2 = eng.workspace[\"S2\"]\n",
    "v1 = D1['Var1']\n",
    "v2 = D2['Var1']\n",
    "xx = [v1,v2]\n",
    "print(type(xx))"
   ]
  },
  {
   "cell_type": "code",
   "execution_count": 15,
   "metadata": {},
   "outputs": [
    {
     "name": "stdout",
     "output_type": "stream",
     "text": [
      "<class 'mlarray.double'> (2, 10000)\n",
      "0.0035\n"
     ]
    }
   ],
   "source": [
    "xx = matlab.double(xx)\n",
    "print(type(xx),xx.size)\n",
    "\n",
    "#Call MCS functions\n",
    "Pf1 = eng.MCS(xx)\n",
    "print(Pf1)"
   ]
  },
  {
   "cell_type": "code",
   "execution_count": 19,
   "metadata": {},
   "outputs": [
    {
     "name": "stdout",
     "output_type": "stream",
     "text": [
      "2.6968442608781262\n"
     ]
    }
   ],
   "source": [
    "beta1 = eng.norminv(Pf1)\n",
    "print(-beta1)"
   ]
  }
 ],
 "metadata": {
  "kernelspec": {
   "display_name": "Python 3",
   "language": "python",
   "name": "python3"
  },
  "language_info": {
   "codemirror_mode": {
    "name": "ipython",
    "version": 3
   },
   "file_extension": ".py",
   "mimetype": "text/x-python",
   "name": "python",
   "nbconvert_exporter": "python",
   "pygments_lexer": "ipython3",
   "version": "3.7.0"
  }
 },
 "nbformat": 4,
 "nbformat_minor": 2
}
